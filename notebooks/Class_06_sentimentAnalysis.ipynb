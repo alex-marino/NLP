{
 "cells": [
  {
   "cell_type": "code",
   "id": "initial_id",
   "metadata": {
    "collapsed": true,
    "ExecuteTime": {
     "end_time": "2024-10-31T22:23:22.120800Z",
     "start_time": "2024-10-31T22:23:18.456453Z"
    }
   },
   "source": [
    "# Importar as bibliotecas necessárias\n",
    "from transformers import pipeline\n",
    "\n",
    "# Criar o pipeline de análise de sentimentos\n",
    "sentiment_pipeline = pipeline(\"sentiment-analysis\", model=\"nlptown/bert-base-multilingual-uncased-sentiment\")\n",
    "\n"
   ],
   "outputs": [],
   "execution_count": 2
  },
  {
   "metadata": {
    "ExecuteTime": {
     "end_time": "2024-10-31T22:23:25.561901Z",
     "start_time": "2024-10-31T22:23:25.285720Z"
    }
   },
   "cell_type": "code",
   "source": [
    "# Definir os textos para análise de sentimentos\n",
    "textos = [\n",
    "    \"Eu amo programar!\",\n",
    "    \"Este filme foi terrível.\",\n",
    "    \"A comida estava deliciosa.\",\n",
    "    \"O serviço foi horrível.\"\n",
    "]\n",
    "\n",
    "# Realizar a análise de sentimentos\n",
    "resultados = sentiment_pipeline(textos)\n",
    "\n"
   ],
   "id": "b799d123072ba327",
   "outputs": [],
   "execution_count": 3
  },
  {
   "metadata": {
    "ExecuteTime": {
     "end_time": "2024-10-31T22:23:28.425407Z",
     "start_time": "2024-10-31T22:23:28.416405Z"
    }
   },
   "cell_type": "code",
   "source": [
    "# Exibir os resultados\n",
    "for texto, resultado in zip(textos, resultados):\n",
    "    print(f\"Texto: {texto}\")\n",
    "    print(f\"Sentimento: {resultado['label']} | Score: {resultado['score']}\\n\")\n"
   ],
   "id": "e0bb87dbc8425d47",
   "outputs": [
    {
     "name": "stdout",
     "output_type": "stream",
     "text": [
      "Texto: Eu amo programar!\n",
      "Sentimento: 5 stars | Score: 0.5267742872238159\n",
      "\n",
      "Texto: Este filme foi terrível.\n",
      "Sentimento: 5 stars | Score: 0.5171940326690674\n",
      "\n",
      "Texto: A comida estava deliciosa.\n",
      "Sentimento: 5 stars | Score: 0.3454928696155548\n",
      "\n",
      "Texto: O serviço foi horrível.\n",
      "Sentimento: 1 star | Score: 0.8641906380653381\n",
      "\n"
     ]
    }
   ],
   "execution_count": 4
  }
 ],
 "metadata": {
  "kernelspec": {
   "display_name": "Python 3",
   "language": "python",
   "name": "python3"
  },
  "language_info": {
   "codemirror_mode": {
    "name": "ipython",
    "version": 2
   },
   "file_extension": ".py",
   "mimetype": "text/x-python",
   "name": "python",
   "nbconvert_exporter": "python",
   "pygments_lexer": "ipython2",
   "version": "2.7.6"
  }
 },
 "nbformat": 4,
 "nbformat_minor": 5
}
