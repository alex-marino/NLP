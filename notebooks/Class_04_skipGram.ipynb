{
 "cells": [
  {
   "metadata": {
    "ExecuteTime": {
     "end_time": "2024-09-26T20:35:05.675610Z",
     "start_time": "2024-09-26T20:35:04.749875Z"
    }
   },
   "cell_type": "code",
   "source": [
    "import pandas as pd\n",
    "from gensim.models import Word2Vec\n",
    "import nltk\n",
    "import re\n",
    "\n",
    "# Certifique-se de que os pacotes do NLTK estão instalados e baixados\n",
    "nltk.download('punkt')\n",
    "\n",
    "# 1. Simulação da carga do dataset (data.csv)\n",
    "df = pd.read_csv(\"../DATA/data.csv\")\n",
    "\n",
    "# 2. Função de pré-processamento de texto\n",
    "def preprocess_text(text):\n",
    "    # Remover caracteres especiais e números\n",
    "    text = re.sub(r'[^a-zA-Z\\s]', '', text)\n",
    "    # Tokenizar o texto em palavras\n",
    "    tokens = nltk.word_tokenize(text.lower())\n",
    "    return tokens\n",
    "\n",
    "# 3. Aplicar a função de pré-processamento na coluna 'Sentence'\n",
    "df['tokens'] = df['Sentence'].apply(preprocess_text)\n",
    "\n",
    "# 4. Preparar as frases para o Word2Vec\n",
    "sentences = df['tokens'].tolist()\n",
    "\n"
   ],
   "id": "31d8dfbc1d1c133f",
   "outputs": [
    {
     "name": "stderr",
     "output_type": "stream",
     "text": [
      "[nltk_data] Downloading package punkt to /home/alexmarino/nltk_data...\n",
      "[nltk_data]   Package punkt is already up-to-date!\n"
     ]
    }
   ],
   "execution_count": 11
  },
  {
   "metadata": {
    "ExecuteTime": {
     "end_time": "2024-09-26T20:35:13.323082Z",
     "start_time": "2024-09-26T20:35:11.229052Z"
    }
   },
   "cell_type": "code",
   "source": [
    "# 5. Treinar o modelo Word2Vec com Skip-Gram (sg=1)\n",
    "model_skipgram = Word2Vec(sentences, vector_size=100, window=5, sg=1, min_count=1, workers=4)\n",
    "\n",
    "# 6. Treinar o modelo Word2Vec com CBOW (sg=0)\n",
    "model_cbow = Word2Vec(sentences, vector_size=100, window=5, sg=0, min_count=1, workers=4)\n",
    "\n"
   ],
   "id": "cd9774a90f8c99c7",
   "outputs": [],
   "execution_count": 12
  },
  {
   "metadata": {
    "ExecuteTime": {
     "end_time": "2024-09-26T20:35:16.300853Z",
     "start_time": "2024-09-26T20:35:16.264056Z"
    }
   },
   "cell_type": "code",
   "source": [
    "# 7. Exemplo de uso com Skip-Gram: Encontrando palavras semelhantes\n",
    "print(\"Palavras semelhantes a 'company' (Skip-Gram):\")\n",
    "try:\n",
    "    similar_words_skipgram = model_skipgram.wv.most_similar('company')\n",
    "    for word, score in similar_words_skipgram:\n",
    "        print(f\"{word}: {score:.4f}\")\n",
    "except KeyError:\n",
    "    print(\"A palavra 'company' não está no vocabulário do modelo Skip-Gram.\")\n",
    "\n",
    "# 8. Exemplo de uso com CBOW: Encontrando palavras semelhantes\n",
    "print(\"\\nPalavras semelhantes a 'company' (CBOW):\")\n",
    "try:\n",
    "    similar_words_cbow = model_cbow.wv.most_similar('company')\n",
    "    for word, score in similar_words_cbow:\n",
    "        print(f\"{word}: {score:.4f}\")\n",
    "except KeyError:\n",
    "    print(\"A palavra 'company' não está no vocabulário do modelo CBOW.\")\n",
    "\n",
    "# 9. Acessando o vetor de uma palavra no Skip-Gram\n",
    "try:\n",
    "    vector_company_skipgram = model_skipgram.wv['company']\n",
    "    print(f\"\\nVetor para a palavra 'company' (Skip-Gram):\\n{vector_company_skipgram}\")\n",
    "except KeyError:\n",
    "    print(\"A palavra 'company' não está no vocabulário do modelo Skip-Gram.\")\n",
    "\n",
    "# 10. Acessando o vetor de uma palavra no CBOW\n",
    "try:\n",
    "    vector_company_cbow = model_cbow.wv['company']\n",
    "    print(f\"\\nVetor para a palavra 'company' (CBOW):\\n{vector_company_cbow}\")\n",
    "except KeyError:\n",
    "    print(\"A palavra 'company' não está no vocabulário do modelo CBOW.\")\n"
   ],
   "id": "6262baf41efdf066",
   "outputs": [
    {
     "name": "stdout",
     "output_type": "stream",
     "text": [
      "Palavras semelhantes a 'company' (Skip-Gram):\n",
      "investment: 0.9399\n",
      "alma: 0.9276\n",
      "sanoma: 0.9262\n",
      "yit: 0.9173\n",
      "group: 0.9141\n",
      "glaston: 0.9117\n",
      "media: 0.9090\n",
      "talentum: 0.9079\n",
      "kemira: 0.9033\n",
      "okmetic: 0.9027\n",
      "\n",
      "Palavras semelhantes a 'company' (CBOW):\n",
      "group: 0.9990\n",
      "investment: 0.9980\n",
      "unit: 0.9975\n",
      "bank: 0.9975\n",
      "tuesday: 0.9974\n",
      "business: 0.9974\n",
      "board: 0.9974\n",
      "march: 0.9974\n",
      "report: 0.9974\n",
      "plans: 0.9974\n",
      "\n",
      "Vetor para a palavra 'company' (Skip-Gram):\n",
      "[-0.3953466   0.44561073 -0.1933641   0.26521158 -0.01517364 -0.4657397\n",
      "  0.4498104   0.3906953  -0.17538315 -0.39529118  0.13914734 -0.15127547\n",
      "  0.04955543 -0.08732861  0.03901793  0.0480535   0.5799961   0.14880109\n",
      " -0.29730242 -0.518933    0.04424501 -0.08326782  0.24716862 -0.07529128\n",
      "  0.03398097  0.20418982 -0.32653487 -0.03133602  0.07519048  0.1760143\n",
      "  0.32009733  0.24552563  0.2961152  -0.30357483 -0.1292578   0.6636436\n",
      "  0.35933396 -0.02432049 -0.02101317  0.00623129  0.22353657 -0.15464105\n",
      "  0.14604169 -0.03355061  0.27365452 -0.07337537 -0.02290938 -0.25899377\n",
      "  0.02338837  0.02868794 -0.01317797 -0.3822904  -0.33623227  0.10710967\n",
      " -0.38361907  0.11301965  0.16789106 -0.07122141 -0.33018017  0.0277876\n",
      "  0.3698637  -0.4199903   0.4796542  -0.05274891  0.00466957  0.13056521\n",
      "  0.16047424  0.5337702  -0.3065475   0.36898658 -0.01485391  0.07853518\n",
      "  0.5664303   0.42671803  0.432493   -0.04259587  0.09466226  0.02399772\n",
      " -0.21456386 -0.02091531 -0.12307079 -0.2169986  -0.23384725  0.1606047\n",
      " -0.15012309 -0.31548455  0.45535958  0.21537898  0.0135308  -0.05762113\n",
      "  0.3670919   0.39388418 -0.01034606 -0.13743271  0.5594823   0.22100851\n",
      "  0.10378011 -0.00239899  0.13225493 -0.16317616]\n",
      "\n",
      "Vetor para a palavra 'company' (CBOW):\n",
      "[-0.5480153   0.91875774  0.22252296  0.07489616  0.1160956  -0.93204266\n",
      "  0.60503846  1.4448436  -0.55671954 -0.678934   -0.32909545 -1.3049998\n",
      " -0.09346545  0.19833097  0.19963622 -0.3927269   0.48056388 -0.35788366\n",
      " -0.38412726 -1.5365137   0.26505607  0.32718012  0.9051956  -0.00338396\n",
      " -0.0786606   0.3566356  -0.6567406  -0.3249912  -0.5089062   0.02582574\n",
      "  0.6595705  -0.03684408  0.51325226 -1.1379559   0.03118741  0.45051938\n",
      "  0.6654066  -0.21551251 -0.55666745 -0.6242422   0.07631227 -0.39295617\n",
      " -0.09766261  0.1022836   0.64235693 -0.5268671  -0.32827443  0.10506649\n",
      "  0.472217    0.45646617  0.32735625 -0.65471435 -0.43643993  0.00387952\n",
      " -0.33096555  0.28548986  0.40032804 -0.1524721  -0.56281346  0.27097055\n",
      "  0.11135148  0.21316493 -0.05297039  0.29647717 -0.57781816  0.8268363\n",
      "  0.03034751  1.2125957  -0.7301724   0.7058863  -0.04009614  0.532599\n",
      "  1.3784289  -0.14357026  1.1153162   0.00941881  0.11103138 -0.06767378\n",
      " -0.49832016 -0.2536457  -0.75453746 -0.23618515 -0.07922945  1.1040447\n",
      " -0.45166045 -0.20462765  0.68536043  0.9067587   0.32098883  0.2226379\n",
      "  1.1032488   0.3305535   0.30190858  0.20208456  1.4048235   0.8964954\n",
      "  0.16403964 -0.6373561  -0.13365564  0.02226025]\n"
     ]
    }
   ],
   "execution_count": 13
  },
  {
   "metadata": {},
   "cell_type": "code",
   "outputs": [],
   "execution_count": null,
   "source": [
    "# 7. Encontrar as K palavras mais próximas no modelo Skip-Gram\n",
    "word = 'company'  # Palavra de exemplo\n",
    "print(f\"\\nK vizinhos mais próximos de '{word}' (Skip-Gram):\")\n",
    "try:\n",
    "    neighbors_skipgram = find_knn(model_skipgram, word, k=5)\n",
    "    for neighbor in neighbors_skipgram:\n",
    "        print(neighbor)\n",
    "except KeyError:\n",
    "    print(f\"A palavra '{word}' não está no vocabulário do modelo Skip-Gram.\")\n",
    "\n"
   ],
   "id": "3958a4e90d815465"
  },
  {
   "metadata": {},
   "cell_type": "code",
   "outputs": [],
   "execution_count": null,
   "source": [
    "# 8. Encontrar as K palavras mais próximas no modelo CBOW\n",
    "print(f\"\\nK vizinhos mais próximos de '{word}' (CBOW):\")\n",
    "try:\n",
    "    neighbors_cbow = find_knn(model_cbow, word, k=5)\n",
    "    for neighbor in neighbors_cbow:\n",
    "        print(neighbor)\n",
    "except KeyError:\n",
    "    print(f\"A palavra '{word}' não está no vocabulário do modelo CBOW.\")\n"
   ],
   "id": "dcd0fef37cc9a151"
  }
 ],
 "metadata": {
  "kernelspec": {
   "display_name": "Python 3",
   "language": "python",
   "name": "python3"
  },
  "language_info": {
   "codemirror_mode": {
    "name": "ipython",
    "version": 2
   },
   "file_extension": ".py",
   "mimetype": "text/x-python",
   "name": "python",
   "nbconvert_exporter": "python",
   "pygments_lexer": "ipython2",
   "version": "2.7.6"
  }
 },
 "nbformat": 4,
 "nbformat_minor": 5
}
