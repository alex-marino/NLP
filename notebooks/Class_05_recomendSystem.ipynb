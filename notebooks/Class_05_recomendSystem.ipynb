{
 "cells": [
  {
   "cell_type": "code",
   "id": "initial_id",
   "metadata": {
    "collapsed": true,
    "ExecuteTime": {
     "end_time": "2024-10-03T19:33:12.967417Z",
     "start_time": "2024-10-03T19:33:10.256096Z"
    }
   },
   "source": [
    "import pandas as pd\n",
    "import nltk\n",
    "from nltk.tokenize import word_tokenize\n",
    "from gensim.models import Word2Vec\n",
    "from sklearn.metrics.pairwise import cosine_similarity\n",
    "import numpy as np\n",
    "\n",
    "# Baixar o tokenizer do NLTK\n",
    "nltk.download('punkt')\n",
    "\n",
    "# Exemplo de dataset com descrições de produtos\n",
    "data = {\n",
    "    'produto': [\n",
    "        \"Smartphone iPhone 12 da Apple com 64GB de armazenamento.\",\n",
    "        \"Notebook Dell Inspiron com 16GB de RAM e 1TB de SSD.\",\n",
    "        \"Smartphone Samsung Galaxy S21 com câmera de 64MP.\",\n",
    "        \"Televisão LG 55 polegadas 4K Ultra HD.\",\n",
    "        \"Notebook Apple MacBook Air com M1 Chip.\",\n",
    "        \"Câmera Canon EOS com lente de 24-70mm.\",\n",
    "        \"Fone de ouvido Bluetooth Sony WH-1000XM4.\",\n",
    "        \"Smartphone Xiaomi Mi 11 com Snapdragon 888.\",\n",
    "        \"Tablet Samsung Galaxy Tab S6 com 128GB de armazenamento.\",\n",
    "        \"Televisão Sony 65 polegadas 4K OLED.\"\n",
    "    ]\n",
    "}\n",
    "\n",
    "df = pd.DataFrame(data)\n",
    "\n",
    "# Tokenizar as descrições dos produtos\n",
    "df['tokens'] = df['produto'].apply(lambda x: word_tokenize(x.lower()))\n",
    "\n",
    "# Treinar o modelo Word2Vec nas descrições dos produtos\n",
    "w2v_model = Word2Vec(sentences=df['tokens'], vector_size=100, window=5, min_count=1, workers=4)\n",
    "\n",
    "# Função para converter uma descrição de produto em um vetor médio de Word2Vec\n",
    "def get_average_vector(tokens_list, model):\n",
    "    vectors = [model.wv[word] for word in tokens_list if word in model.wv]\n",
    "    if len(vectors) > 0:\n",
    "        return sum(vectors) / len(vectors)\n",
    "    else:\n",
    "        return [0] * model.vector_size\n",
    "\n",
    "# Criar vetores médios para os produtos\n",
    "df['vector'] = df['tokens'].apply(lambda x: get_average_vector(x, w2v_model))\n",
    "\n",
    "# Função para recomendar produtos com base em similaridade de cosseno\n",
    "def recomendar_produtos(produto_descricao, df, model, top_n=3):\n",
    "    # Pré-processar e converter o produto em um vetor\n",
    "    tokens = word_tokenize(produto_descricao.lower())\n",
    "    produto_vector = get_average_vector(tokens, model)\n",
    "    \n",
    "    # Calcular a similaridade de cosseno entre o produto e todos os outros produtos\n",
    "    df['similarity'] = df['vector'].apply(lambda x: cosine_similarity([produto_vector], [x])[0][0])\n",
    "    \n",
    "    # Ordenar os produtos pela similaridade\n",
    "    produtos_similares = df.sort_values(by='similarity', ascending=False).head(top_n)\n",
    "    \n",
    "    # Retornar os produtos mais similares\n",
    "    return produtos_similares[['produto', 'similarity']]\n",
    "\n",
    "# Exemplo de uso: recomendar produtos semelhantes a um novo produto\n",
    "novo_produto = \"Smartphone da Apple com 128GB de armazenamento.\"\n",
    "produtos_recomendados = recomendar_produtos(novo_produto, df, w2v_model, top_n=3)\n",
    "\n",
    "# Exibir as recomendações\n",
    "print(f\"Produtos recomendados para '{novo_produto}':\\n\")\n",
    "print(produtos_recomendados)\n"
   ],
   "outputs": [
    {
     "name": "stdout",
     "output_type": "stream",
     "text": [
      "Produtos recomendados para 'Smartphone da Apple com 128GB de armazenamento.':\n",
      "\n",
      "                                             produto  similarity\n",
      "0  Smartphone iPhone 12 da Apple com 64GB de arma...    0.825904\n",
      "2  Smartphone Samsung Galaxy S21 com câmera de 64MP.    0.508201\n",
      "8  Tablet Samsung Galaxy Tab S6 com 128GB de arma...    0.504061\n"
     ]
    },
    {
     "name": "stderr",
     "output_type": "stream",
     "text": [
      "[nltk_data] Downloading package punkt to /home/alexmarino/nltk_data...\n",
      "[nltk_data]   Package punkt is already up-to-date!\n"
     ]
    }
   ],
   "execution_count": 2
  },
  {
   "metadata": {
    "ExecuteTime": {
     "end_time": "2024-10-03T19:34:15.136215Z",
     "start_time": "2024-10-03T19:34:15.112093Z"
    }
   },
   "cell_type": "code",
   "source": [
    "# Exemplo de uso: recomendar produtos semelhantes a um novo produto\n",
    "novo_produto = \"Smartphone Xiaomi\"\n",
    "produtos_recomendados = recomendar_produtos(novo_produto, df, w2v_model, top_n=5)\n",
    "\n",
    "# Exibir as recomendações\n",
    "print(f\"Produtos recomendados para '{novo_produto}':\\n\")\n",
    "print(produtos_recomendados)\n"
   ],
   "id": "7a5b17cc11804146",
   "outputs": [
    {
     "name": "stdout",
     "output_type": "stream",
     "text": [
      "Produtos recomendados para 'Smartphone Xiaomi':\n",
      "\n",
      "                                             produto  similarity\n",
      "7        Smartphone Xiaomi Mi 11 com Snapdragon 888.    0.422898\n",
      "2  Smartphone Samsung Galaxy S21 com câmera de 64MP.    0.255538\n",
      "0  Smartphone iPhone 12 da Apple com 64GB de arma...    0.170370\n",
      "6          Fone de ouvido Bluetooth Sony WH-1000XM4.    0.053869\n",
      "5             Câmera Canon EOS com lente de 24-70mm.    0.018591\n"
     ]
    }
   ],
   "execution_count": 7
  },
  {
   "metadata": {},
   "cell_type": "code",
   "outputs": [],
   "execution_count": null,
   "source": "",
   "id": "36523dde3698d527"
  }
 ],
 "metadata": {
  "kernelspec": {
   "display_name": "Python 3",
   "language": "python",
   "name": "python3"
  },
  "language_info": {
   "codemirror_mode": {
    "name": "ipython",
    "version": 2
   },
   "file_extension": ".py",
   "mimetype": "text/x-python",
   "name": "python",
   "nbconvert_exporter": "python",
   "pygments_lexer": "ipython2",
   "version": "2.7.6"
  }
 },
 "nbformat": 4,
 "nbformat_minor": 5
}
