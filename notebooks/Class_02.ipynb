{
 "cells": [
  {
   "metadata": {},
   "cell_type": "markdown",
   "source": [
    "# Características Linguísticas  \n",
    "Processar texto bruto de forma inteligente é difícil: a maioria das palavras é rara, e é comum que palavras que parecem completamente diferentes signifiquem quase a mesma coisa. As mesmas palavras em uma ordem diferente podem significar algo completamente diferente. Mesmo dividir o texto em unidades semelhantes a palavras pode ser difícil em muitas línguas. Embora seja possível resolver alguns problemas apenas a partir dos caracteres brutos, geralmente é melhor usar conhecimento linguístico para adicionar informações úteis."
   ],
   "id": "a76f8966ba8838bd"
  },
  {
   "metadata": {},
   "cell_type": "markdown",
   "source": "# Part-of-speech tagging",
   "id": "cd479e0c2ab2d248"
  },
  {
   "cell_type": "code",
   "id": "initial_id",
   "metadata": {
    "collapsed": true,
    "ExecuteTime": {
     "end_time": "2024-09-05T20:51:04.632728Z",
     "start_time": "2024-09-05T20:51:03.990532Z"
    }
   },
   "source": [
    "import spacy\n",
    "\n",
    "#!python -m spacy download en_core_web_sm\n",
    "nlp = spacy.load(\"en_core_web_sm\")\n",
    "doc = nlp(\"Apple is looking at buying U.K. startup for $1 billion\")\n",
    "\n",
    "for token in doc:\n",
    "    print(token.text, token.lemma_, token.pos_, token.tag_, token.dep_,\n",
    "            token.shape_, token.is_alpha, token.is_stop)"
   ],
   "outputs": [
    {
     "name": "stdout",
     "output_type": "stream",
     "text": [
      "Apple Apple PROPN NNP nsubj Xxxxx True False\n",
      "is be AUX VBZ aux xx True True\n",
      "looking look VERB VBG ROOT xxxx True False\n",
      "at at ADP IN prep xx True True\n",
      "buying buy VERB VBG pcomp xxxx True False\n",
      "U.K. U.K. PROPN NNP dobj X.X. False False\n",
      "startup startup NOUN NN dep xxxx True False\n",
      "for for ADP IN prep xxx True True\n",
      "$ $ SYM $ quantmod $ False False\n",
      "1 1 NUM CD compound d False False\n",
      "billion billion NUM CD pobj xxxx True False\n"
     ]
    }
   ],
   "execution_count": 4
  },
  {
   "metadata": {},
   "cell_type": "markdown",
   "source": "",
   "id": "1a9e1296c6ae1b2f"
  },
  {
   "metadata": {},
   "cell_type": "markdown",
   "source": "# Morfologia",
   "id": "85c7380d65f21a92"
  },
  {
   "metadata": {
    "ExecuteTime": {
     "end_time": "2024-09-05T20:52:34.504700Z",
     "start_time": "2024-09-05T20:52:33.666350Z"
    }
   },
   "cell_type": "code",
   "source": [
    "import spacy\n",
    "\n",
    "nlp = spacy.load(\"en_core_web_sm\")\n",
    "print(\"Pipeline:\", nlp.pipe_names)\n",
    "doc = nlp(\"I was reading the paper.\")\n",
    "token = doc[0]  # 'I'\n",
    "print(token.morph)  # 'Case=Nom|Number=Sing|Person=1|PronType=Prs'\n",
    "print(token.morph.get(\"PronType\"))  # ['Prs']"
   ],
   "id": "d5eddcf0e3d4df0f",
   "outputs": [
    {
     "name": "stdout",
     "output_type": "stream",
     "text": [
      "Pipeline: ['tok2vec', 'tagger', 'parser', 'attribute_ruler', 'lemmatizer', 'ner']\n",
      "Case=Nom|Number=Sing|Person=1|PronType=Prs\n",
      "['Prs']\n"
     ]
    }
   ],
   "execution_count": 5
  },
  {
   "metadata": {},
   "cell_type": "markdown",
   "source": "# Morfologia Estatística",
   "id": "f7b385b0fff53538"
  },
  {
   "metadata": {
    "ExecuteTime": {
     "end_time": "2024-09-05T20:54:47.704125Z",
     "start_time": "2024-09-05T20:54:46.859356Z"
    }
   },
   "cell_type": "code",
   "source": [
    "import spacy\n",
    "# !python -m spacy download de_core_news_sm\n",
    "nlp = spacy.load(\"de_core_news_sm\")\n",
    "doc = nlp(\"Wo bist du?\") # English: 'Where are you?'\n",
    "print(doc[2].morph)  # 'Case=Nom|Number=Sing|Person=2|PronType=Prs'\n",
    "print(doc[2].pos_) # 'PRON'"
   ],
   "id": "58472fd806654508",
   "outputs": [
    {
     "name": "stdout",
     "output_type": "stream",
     "text": [
      "Case=Nom|Number=Sing|Person=2|PronType=Prs\n",
      "PRON\n"
     ]
    }
   ],
   "execution_count": 9
  },
  {
   "metadata": {},
   "cell_type": "markdown",
   "source": "# Morfologia baseada em regra",
   "id": "c9ff9afbbda65c9c"
  },
  {
   "metadata": {
    "ExecuteTime": {
     "end_time": "2024-09-05T20:55:48.364584Z",
     "start_time": "2024-09-05T20:55:47.879011Z"
    }
   },
   "cell_type": "code",
   "source": [
    "nlp = spacy.load(\"en_core_web_sm\")\n",
    "doc = nlp(\"Where are you?\")\n",
    "print(doc[2].morph)  # 'Case=Nom|Person=2|PronType=Prs'\n",
    "print(doc[2].pos_)  # 'PRON'"
   ],
   "id": "54145c0eb32bf11e",
   "outputs": [
    {
     "name": "stdout",
     "output_type": "stream",
     "text": [
      "Case=Nom|Person=2|PronType=Prs\n",
      "PRON\n"
     ]
    }
   ],
   "execution_count": 10
  },
  {
   "metadata": {},
   "cell_type": "markdown",
   "source": "# Lemantização",
   "id": "e12d7fbde392aef9"
  },
  {
   "metadata": {
    "ExecuteTime": {
     "end_time": "2024-09-05T20:56:31.768292Z",
     "start_time": "2024-09-05T20:56:31.219126Z"
    }
   },
   "cell_type": "code",
   "source": [
    "import spacy\n",
    "\n",
    "# English pipelines include a rule-based lemmatizer\n",
    "nlp = spacy.load(\"en_core_web_sm\")\n",
    "lemmatizer = nlp.get_pipe(\"lemmatizer\")\n",
    "print(lemmatizer.mode)  # 'rule'\n",
    "\n",
    "doc = nlp(\"I was reading the paper.\")\n",
    "print([token.lemma_ for token in doc])\n",
    "# ['I', 'be', 'read', 'the', 'paper', '.']"
   ],
   "id": "c846701f63b03360",
   "outputs": [
    {
     "name": "stdout",
     "output_type": "stream",
     "text": [
      "rule\n",
      "['I', 'be', 'read', 'the', 'paper', '.']\n"
     ]
    }
   ],
   "execution_count": 11
  },
  {
   "metadata": {},
   "cell_type": "markdown",
   "source": "# Lookup lemmatizer",
   "id": "555d48c83aa40568"
  },
  {
   "metadata": {
    "ExecuteTime": {
     "end_time": "2024-09-05T20:58:27.480356Z",
     "start_time": "2024-09-05T20:58:27.402960Z"
    }
   },
   "cell_type": "code",
   "source": [
    "import spacy\n",
    "\n",
    "nlp = spacy.blank(\"sv\")\n",
    "nlp.add_pipe(\"lemmatizer\", config={\"mode\": \"lookup\"})"
   ],
   "id": "eb31c388c019e5ae",
   "outputs": [
    {
     "data": {
      "text/plain": [
       "<spacy.pipeline.lemmatizer.Lemmatizer at 0x7fb589f9ac80>"
      ]
     },
     "execution_count": 13,
     "metadata": {},
     "output_type": "execute_result"
    }
   ],
   "execution_count": 13
  }
 ],
 "metadata": {
  "kernelspec": {
   "display_name": "Python 3",
   "language": "python",
   "name": "python3"
  },
  "language_info": {
   "codemirror_mode": {
    "name": "ipython",
    "version": 2
   },
   "file_extension": ".py",
   "mimetype": "text/x-python",
   "name": "python",
   "nbconvert_exporter": "python",
   "pygments_lexer": "ipython2",
   "version": "2.7.6"
  }
 },
 "nbformat": 4,
 "nbformat_minor": 5
}
