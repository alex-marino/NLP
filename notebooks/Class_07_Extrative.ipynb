{
 "cells": [
  {
   "metadata": {},
   "cell_type": "markdown",
   "source": "## Exemplo Sumarização extrativa",
   "id": "aaa616c4cb40b750"
  },
  {
   "cell_type": "code",
   "id": "initial_id",
   "metadata": {
    "collapsed": true,
    "ExecuteTime": {
     "end_time": "2024-11-07T19:46:05.278647Z",
     "start_time": "2024-11-07T19:46:04.649046Z"
    }
   },
   "source": [
    "import spacy\n",
    "from sklearn.feature_extraction.text import TfidfVectorizer\n",
    "from sklearn.metrics.pairwise import cosine_similarity\n",
    "import numpy as np\n",
    "\n",
    "# Carregar o modelo de spaCy em português\n",
    "nlp = spacy.load(\"pt_core_news_sm\")\n",
    "\n",
    "# Exemplo de texto para sumarização\n",
    "texto = \"\"\"\n",
    "Inteligência Artificial (IA) é um ramo da ciência da computação que se propõe a desenvolver dispositivos que simulem a capacidade humana de raciocinar, resolver problemas, tomar decisões, entre outras tarefas. \n",
    "A IA está presente em diversas áreas e permite que as máquinas aprendam com a experiência e realizem tarefas que requerem inteligência, como reconhecimento de voz, visão computacional e processamento de linguagem natural.\n",
    "\"\"\"\n",
    "\n",
    "# Pré-processamento do texto: dividir em frases\n",
    "doc = nlp(texto)\n",
    "frases = [sent.text for sent in doc.sents]\n",
    "\n",
    "# Vetorização TF-IDF\n",
    "vectorizer = TfidfVectorizer()\n",
    "tfidf_matrix = vectorizer.fit_transform(frases)\n",
    "\n",
    "# Cálculo de similaridade média de cada frase com o restante\n",
    "sim_scores = np.mean(cosine_similarity(tfidf_matrix, tfidf_matrix), axis=1)\n",
    "\n",
    "# Selecionar frases mais importantes\n",
    "num_frases = int(len(frases) * 0.5)  # Aqui definimos 50% das frases originais como resumo\n",
    "indices_frases_importantes = np.argsort(sim_scores)[-num_frases:]\n",
    "\n",
    "# Ordenar as frases selecionadas na ordem original\n",
    "indices_frases_importantes.sort()\n",
    "resumo_extrativo = \" \".join([frases[i] for i in indices_frases_importantes])\n",
    "\n",
    "print(\"Resumo Extrativo:\")\n",
    "print(resumo_extrativo)\n"
   ],
   "outputs": [
    {
     "name": "stdout",
     "output_type": "stream",
     "text": [
      "Resumo Extrativo:\n",
      "Inteligência Artificial (IA) é um ramo da ciência da computação que se propõe a desenvolver dispositivos que simulem a capacidade humana de raciocinar, resolver problemas, tomar decisões, entre outras tarefas. \n",
      "\n"
     ]
    }
   ],
   "execution_count": 8
  },
  {
   "metadata": {
    "ExecuteTime": {
     "end_time": "2024-11-07T19:46:07.691578Z",
     "start_time": "2024-11-07T19:46:07.683085Z"
    }
   },
   "cell_type": "code",
   "source": [
    "from rouge_score import rouge_scorer\n",
    "\n",
    "# Inicializar o calculador ROUGE\n",
    "scorer = rouge_scorer.RougeScorer(['rouge1', 'rouge2', 'rougeL'], use_stemmer=True)\n",
    "\n",
    "# Calcular as pontuações ROUGE\n",
    "scores = scorer.score(texto, resumo_extrativo)\n",
    "\n",
    "# Exibir as pontuações ROUGE\n",
    "print(\"Pontuações ROUGE:\")\n",
    "print(f\"ROUGE-1: {scores['rouge1'].fmeasure:.2f}\")\n",
    "print(f\"ROUGE-2: {scores['rouge2'].fmeasure:.2f}\")\n",
    "print(f\"ROUGE-L: {scores['rougeL'].fmeasure:.2f}\")\n"
   ],
   "id": "38f21b6408ab8589",
   "outputs": [
    {
     "name": "stdout",
     "output_type": "stream",
     "text": [
      "Pontuações ROUGE:\n",
      "ROUGE-1: 0.65\n",
      "ROUGE-2: 0.64\n",
      "ROUGE-L: 0.65\n"
     ]
    }
   ],
   "execution_count": 9
  }
 ],
 "metadata": {
  "kernelspec": {
   "display_name": "Python 3",
   "language": "python",
   "name": "python3"
  },
  "language_info": {
   "codemirror_mode": {
    "name": "ipython",
    "version": 2
   },
   "file_extension": ".py",
   "mimetype": "text/x-python",
   "name": "python",
   "nbconvert_exporter": "python",
   "pygments_lexer": "ipython2",
   "version": "2.7.6"
  }
 },
 "nbformat": 4,
 "nbformat_minor": 5
}
