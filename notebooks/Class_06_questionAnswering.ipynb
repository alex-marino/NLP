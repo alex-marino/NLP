{
 "cells": [
  {
   "metadata": {
    "ExecuteTime": {
     "end_time": "2024-10-24T19:29:24.070011Z",
     "start_time": "2024-10-24T19:29:20.918371Z"
    }
   },
   "cell_type": "code",
   "source": [
    "from transformers import pipeline\n",
    "\n",
    "# Usando o modelo BERT em português da Neuralmind\n",
    "qa_pipeline = pipeline(\"question-answering\", model=\"neuralmind/bert-base-portuguese-cased\")\n",
    "\n"
   ],
   "id": "a6d3703c6bdf396e",
   "outputs": [
    {
     "name": "stderr",
     "output_type": "stream",
     "text": [
      "Some weights of BertForQuestionAnswering were not initialized from the model checkpoint at neuralmind/bert-base-portuguese-cased and are newly initialized: ['qa_outputs.bias', 'qa_outputs.weight']\n",
      "You should probably TRAIN this model on a down-stream task to be able to use it for predictions and inference.\n"
     ]
    },
    {
     "name": "stdout",
     "output_type": "stream",
     "text": [
      "Pergunta: Qual é a capital do Brasil?\n",
      "Resposta: 211 milhões de habitantes. \n",
      "Sua capital é Brasília\n"
     ]
    }
   ],
   "execution_count": 2
  },
  {
   "metadata": {},
   "cell_type": "code",
   "outputs": [],
   "execution_count": null,
   "source": [
    "# Contexto e pergunta\n",
    "contexto = \"\"\"\n",
    "O Brasil é o maior país da América do Sul e da região da América Latina. É o quinto maior país do mundo em área territorial e população, com mais de 211 milhões de habitantes. \n",
    "Sua capital é Brasília, e o país é uma república federativa composta por 26 estados e o Distrito Federal.\n",
    "\"\"\"\n",
    "pergunta = \"Qual é a capital do Brasil?\"\n",
    "\n",
    "# Realizar a pergunta\n",
    "resposta = qa_pipeline(question=pergunta, context=contexto)\n",
    "\n"
   ],
   "id": "fa256478b3e33946"
  },
  {
   "metadata": {
    "ExecuteTime": {
     "end_time": "2024-10-24T19:29:44.514521Z",
     "start_time": "2024-10-24T19:29:44.501936Z"
    }
   },
   "cell_type": "code",
   "source": [
    "# Exibir a resposta\n",
    "print(f\"Pergunta: {pergunta}\")\n",
    "print(f\"Resposta: {resposta['answer']}\")"
   ],
   "id": "33bb0b58d3a20aa",
   "outputs": [
    {
     "name": "stdout",
     "output_type": "stream",
     "text": [
      "Pergunta: Qual é a capital do Brasil?\n",
      "Resposta: 211 milhões de habitantes. \n",
      "Sua capital é Brasília\n"
     ]
    }
   ],
   "execution_count": 3
  },
  {
   "metadata": {},
   "cell_type": "code",
   "outputs": [],
   "execution_count": null,
   "source": "",
   "id": "44fbcde9ebb34e30"
  }
 ],
 "metadata": {
  "kernelspec": {
   "display_name": "Python 3",
   "language": "python",
   "name": "python3"
  },
  "language_info": {
   "codemirror_mode": {
    "name": "ipython",
    "version": 2
   },
   "file_extension": ".py",
   "mimetype": "text/x-python",
   "name": "python",
   "nbconvert_exporter": "python",
   "pygments_lexer": "ipython2",
   "version": "2.7.6"
  }
 },
 "nbformat": 4,
 "nbformat_minor": 5
}
