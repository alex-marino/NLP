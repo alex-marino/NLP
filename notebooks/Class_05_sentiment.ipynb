{
 "cells": [
  {
   "cell_type": "code",
   "id": "initial_id",
   "metadata": {
    "collapsed": true
   },
   "source": [
    "import pandas as pd\n",
    "import nltk\n",
    "from nltk.tokenize import word_tokenize\n",
    "from gensim.models import Word2Vec\n",
    "from sklearn.model_selection import train_test_split\n",
    "from sklearn.ensemble import RandomForestClassifier\n",
    "from sklearn.metrics import accuracy_score\n",
    "\n",
    "# Baixar o tokenizer do NLTK\n",
    "nltk.download('punkt')\n",
    "\n",
    "# Exemplo de dataset de análise de sentimentos\n",
    "data = pd.read_csv(\"../DATA/data.csv\")\n",
    "\n",
    "df = pd.DataFrame(data)\n",
    "df = df.dropna(subset=['Sentiment'])\n",
    "\n",
    "# Mapear os sentimentos para números (Positive -> 1, Negative -> 0)\n",
    "df['Sentiment'] = df['Sentiment'].map({'positive': 1, 'negative': -1, 'neutral': 0})\n",
    "\n"
   ],
   "outputs": [],
   "execution_count": null
  },
  {
   "metadata": {
    "ExecuteTime": {
     "end_time": "2024-10-03T23:48:45.781386Z",
     "start_time": "2024-10-03T23:48:42.961665Z"
    }
   },
   "cell_type": "code",
   "source": [
    "# Pré-processamento: tokenizar as sentenças\n",
    "df['tokens'] = df['Sentence'].apply(lambda x: word_tokenize(x.lower()))  # Converter para minúsculas e tokenizar\n",
    "\n",
    "# Dividir em treino e teste\n",
    "train_df, test_df = train_test_split(df, test_size=0.2, random_state=42)\n",
    "\n",
    "# Treinar o modelo Word2Vec nos dados de treino\n",
    "w2v_model = Word2Vec(sentences=train_df['tokens'], vector_size=100, window=5, min_count=1, workers=4)\n",
    "\n",
    "# Função para converter cada review em um vetor médio de Word2Vec\n",
    "def get_average_vector(tokens_list, model):\n",
    "    vectors = [model.wv[word] for word in tokens_list if word in model.wv]\n",
    "    if len(vectors) > 0:\n",
    "        return sum(vectors) / len(vectors)\n",
    "    else:\n",
    "        return [0] * model.vector_size\n",
    "\n",
    "# Criar representações vetoriais médias para os textos de treino e teste\n",
    "train_vectors = train_df['tokens'].apply(lambda x: get_average_vector(x, w2v_model)).tolist()\n",
    "test_vectors = test_df['tokens'].apply(lambda x: get_average_vector(x, w2v_model)).tolist()\n",
    "\n"
   ],
   "id": "e5e78e3c804dbfdc",
   "outputs": [],
   "execution_count": 58
  },
  {
   "metadata": {
    "ExecuteTime": {
     "end_time": "2024-10-03T23:48:48.788101Z",
     "start_time": "2024-10-03T23:48:48.778280Z"
    }
   },
   "cell_type": "code",
   "source": "len(w2v_model.wv[\"love\"])",
   "id": "b523b5fda5de317d",
   "outputs": [
    {
     "data": {
      "text/plain": [
       "100"
      ]
     },
     "execution_count": 59,
     "metadata": {},
     "output_type": "execute_result"
    }
   ],
   "execution_count": 59
  },
  {
   "metadata": {
    "ExecuteTime": {
     "end_time": "2024-10-03T23:50:26.107072Z",
     "start_time": "2024-10-03T23:50:16.271920Z"
    }
   },
   "cell_type": "code",
   "source": [
    "# Converter listas de vetores em DataFrames para facilitar o uso no scikit-learn\n",
    "X_train = pd.DataFrame(train_vectors)\n",
    "X_test = pd.DataFrame(test_vectors)\n",
    "y_train = train_df['Sentiment']\n",
    "y_test = test_df['Sentiment']\n",
    "\n",
    "# Treinar um classificador Random Forest para a análise de sentimentos\n",
    "clf = RandomForestClassifier(n_estimators=100, random_state=42)\n",
    "clf.fit(X_train, y_train)\n",
    "\n",
    "# Fazer previsões no conjunto de teste\n",
    "y_pred = clf.predict(X_test)\n",
    "\n",
    "# Avaliar a precisão do modelo\n",
    "accuracy = accuracy_score(y_test, y_pred)\n",
    "print(f\"Acurácia: {accuracy * 100:.2f}%\")\n",
    "\n"
   ],
   "id": "f868a0fff83c32e",
   "outputs": [
    {
     "name": "stdout",
     "output_type": "stream",
     "text": [
      "Acurácia: 55.69%\n"
     ]
    }
   ],
   "execution_count": 61
  },
  {
   "metadata": {
    "ExecuteTime": {
     "end_time": "2024-10-03T23:51:18.862104Z",
     "start_time": "2024-10-03T23:51:18.835945Z"
    }
   },
   "cell_type": "code",
   "source": [
    "# Função para inferir o sentimento de uma nova frase\n",
    "def inferir_sentimento(frase, model, clf):\n",
    "    # Pré-processar a frase\n",
    "    tokens = word_tokenize(frase.lower())\n",
    "    \n",
    "    # Obter o vetor médio da frase\n",
    "    vector = get_average_vector(tokens, model)\n",
    "    \n",
    "    # Fazer a previsão\n",
    "    predicao = clf.predict([vector])\n",
    "    \n",
    "    # Retornar o sentimento\n",
    "    if predicao == 1:\n",
    "        return \"Positivo\"\n",
    "    else:\n",
    "        return \"Negativo\"\n",
    "\n",
    "# Exemplo de uso da função de inferência\n",
    "frase_nova = \"I love these students!!!\"\n",
    "resultado = inferir_sentimento(frase_nova, w2v_model, clf)\n",
    "print(f\"Sentimento da frase: '{frase_nova}' é {resultado}\")\n"
   ],
   "id": "889b90294c6b445b",
   "outputs": [
    {
     "name": "stdout",
     "output_type": "stream",
     "text": [
      "Sentimento da frase: 'I love these students!!!' é Negativo\n"
     ]
    }
   ],
   "execution_count": 63
  }
 ],
 "metadata": {
  "kernelspec": {
   "display_name": "Python 3",
   "language": "python",
   "name": "python3"
  },
  "language_info": {
   "codemirror_mode": {
    "name": "ipython",
    "version": 2
   },
   "file_extension": ".py",
   "mimetype": "text/x-python",
   "name": "python",
   "nbconvert_exporter": "python",
   "pygments_lexer": "ipython2",
   "version": "2.7.6"
  }
 },
 "nbformat": 4,
 "nbformat_minor": 5
}
