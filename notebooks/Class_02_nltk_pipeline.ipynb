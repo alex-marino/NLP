{
 "cells": [
  {
   "metadata": {},
   "cell_type": "markdown",
   "source": [
    "1. **Carregar o dataset**:\n",
    "    - O dataset data.csv é carregado usando a biblioteca pandas, e exibimos as primeiras linhas para verificar se os dados foram importados corretamente.\n",
    "2. **Preprocessamento**:\n",
    "    - Tokenização: Utilizamos a função word_tokenize do NLTK para dividir cada sentença em palavras (tokens).\n",
    "    - Remoção de stopwords: Stopwords são removidas usando a lista de stopwords em português disponibilizada pelo NLTK.\n",
    "    - Stemming: Usamos o RSLPStemmer, que é um stemmer específico para o português, para reduzir as palavras à sua raiz.\n",
    "A função preprocessamento é aplicada a cada sentença da coluna Sentence do dataset, e o resultado é armazenado em uma nova coluna chamada processed.\n",
    "\n",
    "3.  **Matriz TF-IDF**:\n",
    "    - Utilizamos o TfidfVectorizer da biblioteca scikit-learn para transformar o texto pré-processado em uma matriz BoW com TF-IDF.\n",
    "    - Exibimos o shape da matriz (número de sentenças x número de termos) e a matriz como um array.\n",
    "    - Exibimos também o vocabulário gerado pelo vectorizador."
   ],
   "id": "4c95e4f4dfd9aa0c"
  },
  {
   "cell_type": "code",
   "id": "initial_id",
   "metadata": {
    "collapsed": true
   },
   "source": [
    "# Instalar as dependências necessárias\n",
    "# !pip install nltk pandas scikit-learn\n",
    "\n",
    "import pandas as pd\n",
    "import nltk\n",
    "from nltk.tokenize import word_tokenize\n",
    "from nltk.corpus import stopwords\n",
    "from nltk.stem import RSLPStemmer\n",
    "from sklearn.feature_extraction.text import TfidfVectorizer\n",
    "\n",
    "# Baixar recursos necessários do NLTK\n",
    "nltk.download('punkt')\n",
    "nltk.download('stopwords')\n",
    "nltk.download('rslp')  # Stemmer específico para português\n",
    "\n",
    "# Carregar o dataset\n",
    "data = pd.read_csv('../DATA/data.csv')\n",
    "\n",
    "# Exibir as primeiras linhas do dataset\n",
    "print(data.head())\n",
    "\n",
    "# Inicializar o stemmer (RSLP é um stemmer específico para português) e carregar as stopwords\n",
    "stemmer = RSLPStemmer()\n",
    "stopwords_pt = set(stopwords.words('portuguese'))\n",
    "\n",
    "# Função de preprocessamento (tokenização, remoção de stopwords, stemming)\n",
    "def preprocessamento(texto):\n",
    "    # Tokenizar o texto\n",
    "    tokens = word_tokenize(texto, language='portuguese')\n",
    "    \n",
    "    # Remover stopwords e aplicar stemming\n",
    "    tokens_limpos = [stemmer.stem(token) for token in tokens if token.lower() not in stopwords_pt and token.isalpha()]\n",
    "    \n",
    "    return ' '.join(tokens_limpos)\n",
    "\n",
    "# Aplicar o preprocessamento a cada sentença no dataset\n",
    "data['processed'] = data['Sentence'].apply(preprocessamento)\n",
    "\n",
    "# Exibir o dataset após o preprocessamento\n",
    "print(data[['Sentence', 'processed']].head())\n",
    "\n",
    "# Criar a matriz TF-IDF usando o texto processado\n",
    "vectorizer = TfidfVectorizer()\n",
    "\n",
    "# Ajustar o vectorizer ao texto pré-processado e transformar\n",
    "X_tfidf = vectorizer.fit_transform(data['processed'])\n",
    "\n",
    "# Exibir a matriz TF-IDF\n",
    "print(\"Matriz TF-IDF (shape):\", X_tfidf.shape)\n",
    "print(X_tfidf.toarray())  # Exibir a matriz BoW TF-IDF como array\n",
    "\n",
    "# Exibir os termos do vocabulário (opcional)\n",
    "print(\"Vocabulário:\", vectorizer.get_feature_names_out())\n"
   ],
   "outputs": [],
   "execution_count": null
  },
  {
   "metadata": {},
   "cell_type": "markdown",
   "source": [
    "**Considerações**:\n",
    "1. **Lematização com NLTK em português**: O NLTK não oferece suporte nativo para lematização em português. Por isso, usamos o stemming com o RSLPStemmer, que é a alternativa mais próxima. Se precisar de lematização completa em português, o spaCy é uma opção mais adequada.\n",
    "2. **Tokenização e Stemming**: Certifique-se de que o texto está bem formatado e de que os tokens são alfabéticos (removemos tokens que não são palavras com isalpha()).\n"
   ],
   "id": "af0a18b8c7553fe4"
  }
 ],
 "metadata": {
  "kernelspec": {
   "display_name": "Python 3",
   "language": "python",
   "name": "python3"
  },
  "language_info": {
   "codemirror_mode": {
    "name": "ipython",
    "version": 2
   },
   "file_extension": ".py",
   "mimetype": "text/x-python",
   "name": "python",
   "nbconvert_exporter": "python",
   "pygments_lexer": "ipython2",
   "version": "2.7.6"
  }
 },
 "nbformat": 4,
 "nbformat_minor": 5
}
