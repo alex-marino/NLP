{
 "cells": [
  {
   "cell_type": "code",
   "id": "initial_id",
   "metadata": {
    "collapsed": true,
    "ExecuteTime": {
     "end_time": "2024-10-24T19:33:42.323870Z",
     "start_time": "2024-10-24T19:33:40.824310Z"
    }
   },
   "source": [
    "from transformers import pipeline\n",
    "\n",
    "# Usar o modelo GPT-2 pequeno em português\n",
    "geracao_texto_pipeline = pipeline(\"text-generation\", model=\"pierreguillou/gpt2-small-portuguese\")\n",
    "\n"
   ],
   "outputs": [],
   "execution_count": 3
  },
  {
   "metadata": {
    "ExecuteTime": {
     "end_time": "2024-10-24T19:33:48.245664Z",
     "start_time": "2024-10-24T19:33:44.731224Z"
    }
   },
   "cell_type": "code",
   "source": [
    "# Definir o prompt inicial para a geração de texto\n",
    "prompt = \"A inteligência artificial está transformando o mundo\"\n",
    "\n",
    "# Gerar texto\n",
    "texto_gerado = geracao_texto_pipeline(prompt, max_length=100, num_return_sequences=1)\n",
    "\n"
   ],
   "id": "9e38855c60540ab9",
   "outputs": [
    {
     "name": "stderr",
     "output_type": "stream",
     "text": [
      "Truncation was not explicitly activated but `max_length` is provided a specific value, please use `truncation=True` to explicitly truncate examples to max length. Defaulting to 'longest_first' truncation strategy. If you encode pairs of sequences (GLUE-style) with the tokenizer you can select this strategy more precisely by providing a specific strategy to `truncation`.\n"
     ]
    }
   ],
   "execution_count": 4
  },
  {
   "metadata": {
    "ExecuteTime": {
     "end_time": "2024-10-24T19:33:50.021039Z",
     "start_time": "2024-10-24T19:33:50.015217Z"
    }
   },
   "cell_type": "code",
   "source": [
    "# Exibir o texto gerado\n",
    "print(\"Texto gerado:\")\n",
    "print(texto_gerado[0]['generated_text'])\n"
   ],
   "id": "e24a84d26284ac8",
   "outputs": [
    {
     "name": "stdout",
     "output_type": "stream",
     "text": [
      "Texto gerado:\n",
      "A inteligência artificial está transformando o mundo mais humano.\n",
      "\n",
      "Um filme chamado \"Vestitice S.H.I.E.L.D. (Vestiário da Inteligência Artificial), em 2004, mostra o talento para capturar os agentes de inteligência artificial durante uma série de eventos históricos. No entanto, esse é um filme de ficção científica e uma parte da história dos filmes é influenciada pela tecnologia avançada. Um \"noir\" da internet no filme foi lançado, apresentando um homem feito por\n"
     ]
    }
   ],
   "execution_count": 5
  }
 ],
 "metadata": {
  "kernelspec": {
   "display_name": "Python 3",
   "language": "python",
   "name": "python3"
  },
  "language_info": {
   "codemirror_mode": {
    "name": "ipython",
    "version": 2
   },
   "file_extension": ".py",
   "mimetype": "text/x-python",
   "name": "python",
   "nbconvert_exporter": "python",
   "pygments_lexer": "ipython2",
   "version": "2.7.6"
  }
 },
 "nbformat": 4,
 "nbformat_minor": 5
}
