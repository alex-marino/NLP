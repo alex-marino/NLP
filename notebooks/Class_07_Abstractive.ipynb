{
 "cells": [
  {
   "cell_type": "code",
   "id": "initial_id",
   "metadata": {
    "collapsed": true,
    "ExecuteTime": {
     "end_time": "2024-11-07T20:15:18.440505Z",
     "start_time": "2024-11-07T19:47:37.235097Z"
    }
   },
   "source": [
    "from transformers import pipeline\n",
    "\n",
    "# Carregar o pipeline de sumarização com o modelo BART\n",
    "sumarizador = pipeline(\"summarization\", model=\"facebook/bart-large-cnn\")\n",
    "\n",
    "# Exemplo de texto para sumarização\n",
    "texto = \"\"\"\n",
    "Inteligência Artificial (IA) é um ramo da ciência da computação que se propõe a desenvolver dispositivos que simulem a capacidade humana de raciocinar, resolver problemas, tomar decisões, entre outras tarefas. \n",
    "A IA está presente em diversas áreas e permite que as máquinas aprendam com a experiência e realizem tarefas que requerem inteligência, como reconhecimento de voz, visão computacional e processamento de linguagem natural.\n",
    "\"\"\"\n",
    "\n",
    "# Sumarização Abstrativa\n",
    "resumo_abstrativo = sumarizador(texto, max_length=50, min_length=25, do_sample=False)\n",
    "print(\"Resumo Abstrativo:\")\n",
    "print(resumo_abstrativo[0]['summary_text'])\n"
   ],
   "outputs": [
    {
     "data": {
      "text/plain": [
       "config.json:   0%|          | 0.00/1.58k [00:00<?, ?B/s]"
      ],
      "application/vnd.jupyter.widget-view+json": {
       "version_major": 2,
       "version_minor": 0,
       "model_id": "fd2025e2fbad484c930af9a10a63df80"
      }
     },
     "metadata": {},
     "output_type": "display_data"
    },
    {
     "data": {
      "text/plain": [
       "model.safetensors:   0%|          | 0.00/1.63G [00:00<?, ?B/s]"
      ],
      "application/vnd.jupyter.widget-view+json": {
       "version_major": 2,
       "version_minor": 0,
       "model_id": "0ccd95d488454e74b30ecd85d8eb45e9"
      }
     },
     "metadata": {},
     "output_type": "display_data"
    },
    {
     "data": {
      "text/plain": [
       "generation_config.json:   0%|          | 0.00/363 [00:00<?, ?B/s]"
      ],
      "application/vnd.jupyter.widget-view+json": {
       "version_major": 2,
       "version_minor": 0,
       "model_id": "44790006690943059c564cf47628c3b7"
      }
     },
     "metadata": {},
     "output_type": "display_data"
    },
    {
     "data": {
      "text/plain": [
       "vocab.json:   0%|          | 0.00/899k [00:00<?, ?B/s]"
      ],
      "application/vnd.jupyter.widget-view+json": {
       "version_major": 2,
       "version_minor": 0,
       "model_id": "316ee4cadbe245f79fe54f01b3886120"
      }
     },
     "metadata": {},
     "output_type": "display_data"
    },
    {
     "data": {
      "text/plain": [
       "merges.txt:   0%|          | 0.00/456k [00:00<?, ?B/s]"
      ],
      "application/vnd.jupyter.widget-view+json": {
       "version_major": 2,
       "version_minor": 0,
       "model_id": "21682876a37845dcbd3815731827c536"
      }
     },
     "metadata": {},
     "output_type": "display_data"
    },
    {
     "data": {
      "text/plain": [
       "tokenizer.json:   0%|          | 0.00/1.36M [00:00<?, ?B/s]"
      ],
      "application/vnd.jupyter.widget-view+json": {
       "version_major": 2,
       "version_minor": 0,
       "model_id": "9552d4ed6247481eaa7347e30cca6f1f"
      }
     },
     "metadata": {},
     "output_type": "display_data"
    },
    {
     "name": "stdout",
     "output_type": "stream",
     "text": [
      "Resumo Abstrativo:\n",
      "Inteligência Artificial (IA) é um ramo da ciências da computação. Se propõe a desenvolver dispositivos que simulem a capacidade\n"
     ]
    }
   ],
   "execution_count": 1
  },
  {
   "metadata": {},
   "cell_type": "code",
   "outputs": [],
   "execution_count": null,
   "source": [
    "from rouge_score import rouge_scorer\n",
    "\n",
    "# Inicializar o calculador ROUGE\n",
    "scorer = rouge_scorer.RougeScorer(['rouge1', 'rouge2', 'rougeL'], use_stemmer=True)\n",
    "\n",
    "# Calcular as pontuações ROUGE\n",
    "scores = scorer.score(texto, resumo_abstrativo[0]['summary_text'])\n",
    "\n",
    "# Exibir as pontuações ROUGE\n",
    "print(\"Pontuações ROUGE:\")\n",
    "print(f\"ROUGE-1: {scores['rouge1'].fmeasure:.2f}\")\n",
    "print(f\"ROUGE-2: {scores['rouge2'].fmeasure:.2f}\")\n",
    "print(f\"ROUGE-L: {scores['rougeL'].fmeasure:.2f}\")"
   ],
   "id": "2e738918957bae01"
  }
 ],
 "metadata": {
  "kernelspec": {
   "display_name": "Python 3",
   "language": "python",
   "name": "python3"
  },
  "language_info": {
   "codemirror_mode": {
    "name": "ipython",
    "version": 2
   },
   "file_extension": ".py",
   "mimetype": "text/x-python",
   "name": "python",
   "nbconvert_exporter": "python",
   "pygments_lexer": "ipython2",
   "version": "2.7.6"
  }
 },
 "nbformat": 4,
 "nbformat_minor": 5
}
